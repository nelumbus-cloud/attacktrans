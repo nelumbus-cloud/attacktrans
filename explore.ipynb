{
 "cells": [
  {
   "cell_type": "code",
   "execution_count": 36,
   "id": "138f2fc1",
   "metadata": {},
   "outputs": [
    {
     "name": "stdout",
     "output_type": "stream",
     "text": [
      "Data(x=[2277, 2325], edge_index=[2, 36101], y=[2277], train_mask=[2277, 10], val_mask=[2277, 10], test_mask=[2277, 10])\n"
     ]
    }
   ],
   "source": [
    "from torch_geometric.datasets import WikipediaNetwork\n",
    "from torch_geometric.transforms import NormalizeFeatures\n",
    "\n",
    "dataset = WikipediaNetwork(root='data/', name='chameleon', transform=NormalizeFeatures())\n",
    "data = dataset[0]\n",
    "print(data)\n"
   ]
  },
  {
   "cell_type": "code",
   "execution_count": 4,
   "id": "0eb42191",
   "metadata": {},
   "outputs": [
    {
     "name": "stdout",
     "output_type": "stream",
     "text": [
      "Dataset: chameleon\n",
      "Data has 2277 nodes, 36101 edges\n",
      "Number of node features: 2325\n",
      "Number of classes: 5\n"
     ]
    }
   ],
   "source": [
    "print(f'Dataset: {dataset.name}')\n",
    "print(f\"Data has {data.num_nodes} nodes, {data.num_edges} edges\")\n",
    "print(f\"Number of node features: {data.num_node_features}\")\n",
    "print(f\"Number of classes: {dataset.num_classes}\")\n"
   ]
  },
  {
   "cell_type": "markdown",
   "id": "e8ae5541",
   "metadata": {},
   "source": [
    "## Explore statistics"
   ]
  },
  {
   "cell_type": "code",
   "execution_count": 5,
   "id": "51fa1a28",
   "metadata": {},
   "outputs": [
    {
     "name": "stdout",
     "output_type": "stream",
     "text": [
      "Contains isolated nodes: False\n",
      "Contains self-loops: True\n",
      "Is directed: True\n"
     ]
    }
   ],
   "source": [
    "print(\"Contains isolated nodes:\", data.has_isolated_nodes())\n",
    "print(\"Contains self-loops:\", data.has_self_loops())\n",
    "print(\"Is directed:\", data.is_directed())"
   ]
  },
  {
   "cell_type": "code",
   "execution_count": 6,
   "id": "80c4c56f",
   "metadata": {},
   "outputs": [
    {
     "name": "stdout",
     "output_type": "stream",
     "text": [
      "Node feature matrix shape: torch.Size([2277, 2325])\n",
      "Edge index shape: torch.Size([2, 36101])\n",
      "Node feature statistics:\n",
      "Min feature value: 0.0000\n",
      "Max feature value: 1.0000\n",
      "Mean feature value: 0.0004\n",
      "Std deviation of feature values: 0.0099\n"
     ]
    }
   ],
   "source": [
    "print(f\"Node feature matrix shape: {data.x.shape}\")\n",
    "print(f\"Edge index shape: {data.edge_index.shape}\")\n",
    "\n",
    "\n",
    "\n",
    "print(\"Node feature statistics:\")\n",
    "print(f\"Min feature value: {data.x.min().item():.4f}\")\n",
    "print(f\"Max feature value: {data.x.max().item():.4f}\")\n",
    "print(f\"Mean feature value: {data.x.mean().item():.4f}\")\n",
    "print(f\"Std deviation of feature values: {data.x.std().item():.4f}\")"
   ]
  },
  {
   "cell_type": "code",
   "execution_count": 38,
   "id": "6dfb3a8f",
   "metadata": {},
   "outputs": [
    {
     "name": "stdout",
     "output_type": "stream",
     "text": [
      "Label distribution:\n",
      "Class 0: 456 nodes\n",
      "Class 0: 20.03%\n",
      "Class 1: 460 nodes\n",
      "Class 1: 20.20%\n",
      "Class 2: 453 nodes\n",
      "Class 2: 19.89%\n",
      "Class 3: 521 nodes\n",
      "Class 3: 22.88%\n",
      "Class 4: 387 nodes\n",
      "Class 4: 17.00%\n"
     ]
    }
   ],
   "source": [
    "import matplotlib.pyplot as plt\n",
    "import seaborn as sns\n",
    "\n",
    "labels = data.y\n",
    "label_counts = labels.bincount()\n",
    "print(\"Label distribution:\")\n",
    "\n",
    "for i, count in enumerate(label_counts):\n",
    "    print(f\"Class {i}: {count.item()} nodes\")\n",
    "    percentage = (count.item() / data.num_nodes) * 100\n",
    "    print(f\"Class {i}: {percentage:.2f}%\")\n",
    "\n"
   ]
  },
  {
   "cell_type": "markdown",
   "id": "45b5d033",
   "metadata": {},
   "source": [
    "## Features"
   ]
  },
  {
   "cell_type": "code",
   "execution_count": 42,
   "id": "9b5ae4bb",
   "metadata": {},
   "outputs": [
    {
     "data": {
      "text/plain": [
       "0.23500734051688318"
      ]
     },
     "execution_count": 42,
     "metadata": {},
     "output_type": "execute_result"
    }
   ],
   "source": [
    "y = data.y\n",
    "edge_index = data.edge_index\n",
    "row, col = edge_index\n",
    "\n",
    "same_label = (y[row] == y[col]).sum().item()\n",
    "\n",
    "total_edges = edge_index.size(1)\n",
    "\n",
    "homophily = same_label / total_edges\n",
    "homophily"
   ]
  },
  {
   "cell_type": "markdown",
   "id": "05ef924e",
   "metadata": {},
   "source": [
    "### Homophily"
   ]
  },
  {
   "cell_type": "code",
   "execution_count": 43,
   "id": "83364445",
   "metadata": {},
   "outputs": [
    {
     "name": "stderr",
     "output_type": "stream",
     "text": [
      "Downloading https://github.com/kimiyoung/planetoid/raw/master/data/ind.cora.x\n",
      "Downloading https://github.com/kimiyoung/planetoid/raw/master/data/ind.cora.tx\n",
      "Downloading https://github.com/kimiyoung/planetoid/raw/master/data/ind.cora.allx\n",
      "Downloading https://github.com/kimiyoung/planetoid/raw/master/data/ind.cora.y\n",
      "Downloading https://github.com/kimiyoung/planetoid/raw/master/data/ind.cora.ty\n",
      "Downloading https://github.com/kimiyoung/planetoid/raw/master/data/ind.cora.ally\n",
      "Downloading https://github.com/kimiyoung/planetoid/raw/master/data/ind.cora.graph\n",
      "Downloading https://github.com/kimiyoung/planetoid/raw/master/data/ind.cora.test.index\n",
      "Processing...\n",
      "Done!\n",
      "Downloading https://raw.githubusercontent.com/graphdml-uiuc-jlu/geom-gcn/f1fc0d14b3b019c562737240d06ec83b07d16a8f/new_data/chameleon/out1_node_feature_label.txt\n",
      "Downloading https://raw.githubusercontent.com/graphdml-uiuc-jlu/geom-gcn/f1fc0d14b3b019c562737240d06ec83b07d16a8f/new_data/chameleon/out1_graph_edges.txt\n",
      "Downloading https://raw.githubusercontent.com/graphdml-uiuc-jlu/geom-gcn/f1fc0d14b3b019c562737240d06ec83b07d16a8f/splits/chameleon_split_0.6_0.2_0.npz\n",
      "Downloading https://raw.githubusercontent.com/graphdml-uiuc-jlu/geom-gcn/f1fc0d14b3b019c562737240d06ec83b07d16a8f/splits/chameleon_split_0.6_0.2_1.npz\n",
      "Downloading https://raw.githubusercontent.com/graphdml-uiuc-jlu/geom-gcn/f1fc0d14b3b019c562737240d06ec83b07d16a8f/splits/chameleon_split_0.6_0.2_2.npz\n",
      "Downloading https://raw.githubusercontent.com/graphdml-uiuc-jlu/geom-gcn/f1fc0d14b3b019c562737240d06ec83b07d16a8f/splits/chameleon_split_0.6_0.2_3.npz\n",
      "Downloading https://raw.githubusercontent.com/graphdml-uiuc-jlu/geom-gcn/f1fc0d14b3b019c562737240d06ec83b07d16a8f/splits/chameleon_split_0.6_0.2_4.npz\n",
      "Downloading https://raw.githubusercontent.com/graphdml-uiuc-jlu/geom-gcn/f1fc0d14b3b019c562737240d06ec83b07d16a8f/splits/chameleon_split_0.6_0.2_5.npz\n",
      "Downloading https://raw.githubusercontent.com/graphdml-uiuc-jlu/geom-gcn/f1fc0d14b3b019c562737240d06ec83b07d16a8f/splits/chameleon_split_0.6_0.2_6.npz\n",
      "Downloading https://raw.githubusercontent.com/graphdml-uiuc-jlu/geom-gcn/f1fc0d14b3b019c562737240d06ec83b07d16a8f/splits/chameleon_split_0.6_0.2_7.npz\n",
      "Downloading https://raw.githubusercontent.com/graphdml-uiuc-jlu/geom-gcn/f1fc0d14b3b019c562737240d06ec83b07d16a8f/splits/chameleon_split_0.6_0.2_8.npz\n",
      "Downloading https://raw.githubusercontent.com/graphdml-uiuc-jlu/geom-gcn/f1fc0d14b3b019c562737240d06ec83b07d16a8f/splits/chameleon_split_0.6_0.2_9.npz\n",
      "Processing...\n"
     ]
    },
    {
     "name": "stdout",
     "output_type": "stream",
     "text": [
      "Cora Homophily:      0.8100\n",
      "Chameleon Homophily: 0.2350\n"
     ]
    },
    {
     "name": "stderr",
     "output_type": "stream",
     "text": [
      "Done!\n"
     ]
    }
   ],
   "source": [
    "import torch\n",
    "from torch_geometric.datasets import Planetoid, WikipediaNetwork\n",
    "from torch_geometric.transforms import NormalizeFeatures\n",
    "\n",
    "def compute_homophily(data):\n",
    "    edge_index = data.edge_index\n",
    "    row, col = edge_index\n",
    "    y = data.y\n",
    "    same_label = (y[row] == y[col]).sum().item()\n",
    "    total_edges = edge_index.size(1)\n",
    "    return same_label / total_edges\n",
    "\n",
    "# Load datasets\n",
    "cora_dataset = Planetoid(root='data/Cora', name='Cora', transform=NormalizeFeatures())\n",
    "chameleon_dataset = WikipediaNetwork(root='data/Chameleon', name='chameleon', transform=NormalizeFeatures())\n",
    "\n",
    "# Extract data objects\n",
    "cora_data = cora_dataset[0]\n",
    "chameleon_data = chameleon_dataset[0]\n",
    "\n",
    "# Compute homophily\n",
    "cora_homophily = compute_homophily(cora_data)\n",
    "chameleon_homophily = compute_homophily(chameleon_data)\n",
    "\n",
    "# Print comparison\n",
    "print(f\"Cora Homophily:      {cora_homophily:.4f}\")\n",
    "print(f\"Chameleon Homophily: {chameleon_homophily:.4f}\")\n"
   ]
  },
  {
   "cell_type": "markdown",
   "id": "a9bd2ca1",
   "metadata": {},
   "source": [
    "## Run some algorithms\n",
    "### GCN"
   ]
  },
  {
   "cell_type": "markdown",
   "id": "85d95607",
   "metadata": {},
   "source": [
    "1. two more datasets\n",
    "2. two attack models \n",
    "3. GCN"
   ]
  },
  {
   "cell_type": "code",
   "execution_count": null,
   "id": "0a89d604",
   "metadata": {},
   "outputs": [],
   "source": []
  }
 ],
 "metadata": {
  "kernelspec": {
   "display_name": "gnnattack",
   "language": "python",
   "name": "python3"
  },
  "language_info": {
   "codemirror_mode": {
    "name": "ipython",
    "version": 3
   },
   "file_extension": ".py",
   "mimetype": "text/x-python",
   "name": "python",
   "nbconvert_exporter": "python",
   "pygments_lexer": "ipython3",
   "version": "3.9.22"
  }
 },
 "nbformat": 4,
 "nbformat_minor": 5
}
